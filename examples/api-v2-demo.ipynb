{
 "cells": [
  {
   "cell_type": "markdown",
   "id": "5bef7588-d1e0-4f66-a403-8e72d68a410a",
   "metadata": {},
   "source": [
    "# Demo for working with the pid4cat API v2 from Python"
   ]
  },
  {
   "cell_type": "markdown",
   "id": "b770b10f-cf1e-4868-91c5-f35414a650f8",
   "metadata": {},
   "source": [
    "Details for the endpoints provided by the API can be found in the [auto-generated documentation](https://api.nfdi4cat.org/testpid/v2/index.html)."
   ]
  },
  {
   "cell_type": "code",
   "execution_count": 1,
   "id": "76f5481b-dbc9-4367-a09b-29b90f1c5fb5",
   "metadata": {},
   "outputs": [],
   "source": [
    "import os\n",
    "import httpx"
   ]
  },
  {
   "cell_type": "markdown",
   "id": "8b41e0c4-f3bc-417d-864c-41f4fec7163b",
   "metadata": {},
   "source": [
    "The username and password are read from environment variables. The required credentials are supplied by HLRS."
   ]
  },
  {
   "cell_type": "code",
   "execution_count": 2,
   "id": "c8aa83c6-b45a-41e5-9db9-2315fe64c27e",
   "metadata": {},
   "outputs": [],
   "source": [
    "api_user = os.environ[\"NFDI4CAT_PID_API_USER\"]\n",
    "password = os.environ[\"NFDI4CAT_PID_API_PASSWORD\"]\n",
    "\n",
    "test_api_base_url = \"https://api.nfdi4cat.org/testpid/v2/4cat\""
   ]
  },
  {
   "cell_type": "markdown",
   "id": "47f9db80-b76b-4512-a2ac-239bb4925faa",
   "metadata": {},
   "source": [
    "Setup a httpx-client with REST API authentication"
   ]
  },
  {
   "cell_type": "code",
   "execution_count": 3,
   "id": "4baa076a-6bdd-43b7-9da3-04b8aa5c0a1c",
   "metadata": {},
   "outputs": [],
   "source": [
    "pid_client = httpx.Client(auth=(api_user, password), timeout=10)"
   ]
  },
  {
   "cell_type": "markdown",
   "id": "fd4c9e2a-fe67-4ecf-9ad2-d5bd0d804d7b",
   "metadata": {},
   "source": [
    "## GET \"/\" - List all available schemes\n",
    "\n",
    "Request \"Get all the available options\" for this api_user.\n",
    "\n",
    "The term \"scheme\" is a bit misleading since the allowed values are given by the enum [ResourceCategory](https://nfdi4cat.github.io/pid4cat-model/latest/elements/ResourceCategory/) in the pid4cat-model."
   ]
  },
  {
   "cell_type": "code",
   "execution_count": 4,
   "id": "504f6c0b-35d2-431f-8b87-7015f6b5d112",
   "metadata": {},
   "outputs": [
    {
     "data": {
      "text/plain": [
       "URL('https://api.nfdi4cat.org/testpid/v2/4cat')"
      ]
     },
     "metadata": {},
     "output_type": "display_data"
    },
    {
     "name": "stdout",
     "output_type": "stream",
     "text": [
      "Statuscode: 200\n"
     ]
    },
    {
     "data": {
      "text/plain": [
       "{'LIKAT': {'scheme': ['device', 'ontology']}}"
      ]
     },
     "execution_count": 4,
     "metadata": {},
     "output_type": "execute_result"
    }
   ],
   "source": [
    "res = pid_client.get(test_api_base_url)\n",
    "display(res.url)\n",
    "print(f\"Statuscode: {res.status_code}\")\n",
    "res.json()"
   ]
  },
  {
   "cell_type": "markdown",
   "id": "60959428-66fd-424c-b0ac-596cc20eda9d",
   "metadata": {},
   "source": [
    "Each item in the \"scheme\" list has its own API endpoints. \n",
    "\n",
    "FYI: \"LIKAT\" is not the api_user here. It is the name of the organisation that is responsible for the name-assignment in the sub-namespace."
   ]
  },
  {
   "cell_type": "markdown",
   "id": "f877067f-ea7a-45f5-a9f7-7298d03411bb",
   "metadata": {},
   "source": [
    "## GET \"/{scheme}\" - List handles registered for a scheme\n",
    "\n",
    "The description for this endpoint in the API docu is misleading.\n",
    "\n",
    "It requests all handles created under the selected scheme."
   ]
  },
  {
   "cell_type": "code",
   "execution_count": 5,
   "id": "f9a2f1d2-b0a7-4d98-94a2-48dfc733a935",
   "metadata": {},
   "outputs": [
    {
     "data": {
      "text/plain": [
       "URL('https://api.nfdi4cat.org/testpid/v2/4cat/device/')"
      ]
     },
     "metadata": {},
     "output_type": "display_data"
    },
    {
     "name": "stdout",
     "output_type": "stream",
     "text": [
      "Statuscode: 200\n"
     ]
    },
    {
     "data": {
      "text/plain": [
       "{'LIKAT': {'device': ['https://hdl.handle.net/api/handles/21.T11978/TEST/1966-BEC9',\n",
       "   'https://hdl.handle.net/api/handles/21.T11978/TEST/C9K6-C6K9',\n",
       "   'https://hdl.handle.net/api/handles/21.T11978/TEST/E3E6-A9C1',\n",
       "   'https://hdl.handle.net/api/handles/21.T11978/TEST/EK1B-EME9',\n",
       "   'https://hdl.handle.net/api/handles/21.T11978/TEST/2E55-C971',\n",
       "   'https://hdl.handle.net/api/handles/21.T11978/TEST/MADC-8A79',\n",
       "   'https://hdl.handle.net/api/handles/21.T11978/TEST/98EB-K3D1']}}"
      ]
     },
     "execution_count": 5,
     "metadata": {},
     "output_type": "execute_result"
    }
   ],
   "source": [
    "scheme = \"device\"\n",
    "res = pid_client.get(f\"{test_api_base_url}/{scheme}/\")\n",
    "display(res.url)\n",
    "print(f\"Statuscode: {res.status_code}\")\n",
    "res.json()"
   ]
  },
  {
   "cell_type": "markdown",
   "id": "aa1368d7-48bf-4c33-8eaf-a36aec0d967f",
   "metadata": {},
   "source": [
    "## PUT \"/{scheme}/\" - Create a new handle in a scheme.\n",
    "\n",
    "Currently there is no control over the ID-suffix. This has to be added. This should also be a POST request since it creates a resource (the PID)."
   ]
  },
  {
   "cell_type": "code",
   "execution_count": 6,
   "id": "6a8e600b-3ae9-4c3e-9bfe-ad239e61baa7",
   "metadata": {},
   "outputs": [
    {
     "name": "stdout",
     "output_type": "stream",
     "text": [
      "Statuscode: 200\n"
     ]
    },
    {
     "data": {
      "text/plain": [
       "{'LIKAT': {'handle': 'https://hdl.handle.net/api/handles/21.T11978/test/k922-5cd1'}}"
      ]
     },
     "execution_count": 6,
     "metadata": {},
     "output_type": "execute_result"
    }
   ],
   "source": [
    "scheme = \"device\"  # can be sample, device, substance, ...\n",
    "target_url = \"https://example.org/device_ABC1\"\n",
    "params = {\"data\": target_url}\n",
    "\n",
    "handle_create_url = f\"{test_api_base_url}/{scheme}/\"\n",
    "res = pid_client.put(handle_create_url, params=params)\n",
    "print(f\"Statuscode: {res.status_code}\")\n",
    "res.json()"
   ]
  },
  {
   "cell_type": "markdown",
   "id": "33eaf64d-389c-4d18-bb51-5c0512ccf272",
   "metadata": {},
   "source": [
    "## GET \"/{scheme}/{id}\" - Get the target URL (landing page) of a handle in a scheme\n",
    "\n",
    "Here \"id\" represents not the full handle-suffix but just the id-part."
   ]
  },
  {
   "cell_type": "code",
   "execution_count": 7,
   "id": "218c27dd-5418-4e54-b360-97b284c6b323",
   "metadata": {},
   "outputs": [
    {
     "data": {
      "text/plain": [
       "URL('https://api.nfdi4cat.org/testpid/v2/4cat/device/c9k6-c6k9')"
      ]
     },
     "metadata": {},
     "output_type": "display_data"
    },
    {
     "name": "stdout",
     "output_type": "stream",
     "text": [
      "Statuscode: 200\n"
     ]
    },
    {
     "data": {
      "text/plain": [
       "{'LIKAT': {'value': 'https://example.org/device_1'}}"
      ]
     },
     "execution_count": 7,
     "metadata": {},
     "output_type": "execute_result"
    }
   ],
   "source": [
    "scheme = \"device\"\n",
    "id_ = \"c9k6-c6k9\"\n",
    "res = pid_client.get(f\"{test_api_base_url}/{scheme}/{id_}\")\n",
    "display(res.url)\n",
    "print(f\"Statuscode: {res.status_code}\")\n",
    "res.json()"
   ]
  },
  {
   "cell_type": "markdown",
   "id": "115a68fe-f004-4d25-b4e5-59671eeababe",
   "metadata": {},
   "source": [
    "## PUT \"/{scheme}/{id}\" - Update the target URL of a handle in a scheme"
   ]
  },
  {
   "cell_type": "code",
   "execution_count": 8,
   "id": "24c06f13-a7a3-4630-9d97-30b75695c65b",
   "metadata": {},
   "outputs": [
    {
     "name": "stdout",
     "output_type": "stream",
     "text": [
      "Statuscode: 200\n"
     ]
    },
    {
     "data": {
      "text/plain": [
       "{'LIKAT': {'handle': 'https://hdl.handle.net/api/handles/21.T11978/test/c9k6-c6k9?index=1'}}"
      ]
     },
     "execution_count": 8,
     "metadata": {},
     "output_type": "execute_result"
    }
   ],
   "source": [
    "scheme = \"device\"  # can be sample, device, substance, ...\n",
    "target_url = \"https://example.org/device_1\"\n",
    "id_ = \"c9k6-c6k9\"\n",
    "params = {\"data\": target_url}\n",
    "\n",
    "update_url = f\"{test_api_base_url}/{scheme}/{id_}/\"\n",
    "res = pid_client.put(update_url, params=params)\n",
    "print(f\"Statuscode: {res.status_code}\")\n",
    "res.json()"
   ]
  },
  {
   "cell_type": "markdown",
   "id": "efa85c50-8f88-491f-bf07-d9eee0ebbdb3",
   "metadata": {},
   "source": [
    "## GET \"/{scheme}/{id}/metadata/{type}\" - Get metadata for a handle by type"
   ]
  },
  {
   "cell_type": "code",
   "execution_count": 9,
   "id": "62324c66-ad99-4e78-b15e-d371eebd791e",
   "metadata": {},
   "outputs": [
    {
     "data": {
      "text/plain": [
       "URL('https://api.nfdi4cat.org/testpid/v2/4cat/device/c9k6-c6k9/metadata/email/')"
      ]
     },
     "metadata": {},
     "output_type": "display_data"
    },
    {
     "name": "stdout",
     "output_type": "stream",
     "text": [
      "Statuscode: 200\n"
     ]
    },
    {
     "data": {
      "text/plain": [
       "{'LIKAT': {'value': 'pids@example.org'}}"
      ]
     },
     "execution_count": 9,
     "metadata": {},
     "output_type": "execute_result"
    }
   ],
   "source": [
    "scheme = \"device\"\n",
    "id_ = \"c9k6-c6k9\"\n",
    "type_ = \"email\"  # \"status\"\n",
    "res = pid_client.get(f\"{test_api_base_url}/{scheme}/{id_}/metadata/{type_}/\")\n",
    "display(res.url)\n",
    "print(f\"Statuscode: {res.status_code}\")\n",
    "res.json()"
   ]
  },
  {
   "cell_type": "markdown",
   "id": "fced0127-6bbd-48f1-9916-6b9c0f6babe3",
   "metadata": {},
   "source": [
    "## PUT \"/{scheme}/{id}/metadata/\"\n",
    "\n",
    "The parameter to hide the metadata is not needed in my opinion. I would be fine with removing it. Its documentation is also misleading: while it is pretty clear that you should set a parameter named \"hide\" to \"false\" to make metadata visible, the API description says \"Metadata visiblitiy status\" and based on this you would select \"true\" to make metadata visible."
   ]
  },
  {
   "cell_type": "code",
   "execution_count": 10,
   "id": "f31a61bd-9304-41eb-8429-129b2756509c",
   "metadata": {},
   "outputs": [
    {
     "name": "stdout",
     "output_type": "stream",
     "text": [
      "Statuscode: 200\n"
     ]
    },
    {
     "data": {
      "text/plain": [
       "{'LIKAT': {'handle': 'https://hdl.handle.net/api/handles/21.T11978/test/c9k6-c6k9?index=10'}}"
      ]
     },
     "execution_count": 10,
     "metadata": {},
     "output_type": "execute_result"
    }
   ],
   "source": [
    "scheme = \"device\"\n",
    "id_ = \"c9k6-c6k9\"\n",
    "type_ = \"email\"\n",
    "params = {\"type\": type_, \"value\": \"pids@example.org\", \"hide\": \"false\"}\n",
    "\n",
    "update_url = f\"{test_api_base_url}/{scheme}/{id_}/metadata/\"\n",
    "res = pid_client.put(update_url, params=params)\n",
    "print(f\"Statuscode: {res.status_code}\")\n",
    "res.json()"
   ]
  },
  {
   "cell_type": "markdown",
   "id": "020bbf89-5300-4687-9ac5-11b44e9a6b5e",
   "metadata": {},
   "source": [
    "## PUT \"/{scheme}/{id}/metadata/{type}/\" - Update metadata by type (field)\n",
    "\n",
    "It is difficult to figure out how to use this endpoint from the API documentation because it lacks a working example for the json expected in the response body.\n",
    "\n",
    "Below, the Python request is build separately before sending it. This allows to inspect the elements of the send request in detail."
   ]
  },
  {
   "cell_type": "code",
   "execution_count": 12,
   "id": "0967cf2e-a8f2-4375-8138-0f8df67aa7a2",
   "metadata": {},
   "outputs": [
    {
     "name": "stdout",
     "output_type": "stream",
     "text": [
      "Request method: PUT\n",
      "Request URL: https://api.nfdi4cat.org/testpid/v2/4cat/device/c9k6-c6k9/metadata/resource/?hide=false\n",
      "Request headers: Headers({'host': 'api.nfdi4cat.org', 'accept': '*/*', 'accept-encoding': 'gzip, deflate', 'connection': 'keep-alive', 'user-agent': 'python-httpx/0.28.1', 'content-length': '233', 'content-type': 'application/json'})\n",
      "Request body: {\"label\":\"Resource label\",\"description\":\"Resource description\",\"resource_category\":\"DEVICE\",\"representation_variants\":[{\"variant_url\":\"https://example.org/resource\",\"media_type\":\"text/turtle\",\"encoding_format\":\"UTF-8\",\"size\":12345}]}\n",
      "Statuscode: 200\n"
     ]
    },
    {
     "data": {
      "text/plain": [
       "'{\"LIKAT\":{\"handle\":\"https://hdl.handle.net/api/handles/21.T11978/test/c9k6-c6k9?index=14\"}}'"
      ]
     },
     "execution_count": 12,
     "metadata": {},
     "output_type": "execute_result"
    }
   ],
   "source": [
    "scheme = \"device\"\n",
    "id_ = \"c9k6-c6k9\"\n",
    "type_ = \"resource\"\n",
    "params = {\"hide\": False}\n",
    "data = {\n",
    "    \"label\": \"Resource label\",\n",
    "    \"description\": \"Resource description\",\n",
    "    \"resource_category\": \"DEVICE\",\n",
    "    \"representation_variants\": [\n",
    "        {\n",
    "            \"variant_url\": \"https://example.org/resource\",\n",
    "            \"media_type\": \"text/turtle\",\n",
    "            \"encoding_format\": \"UTF-8\",\n",
    "            \"size\": 12345,\n",
    "        }\n",
    "    ],\n",
    "}\n",
    "\n",
    "update_url = f\"{test_api_base_url}/{scheme}/{id_}/metadata/{type_}/\"\n",
    "request = pid_client.build_request(\"PUT\", update_url, params=params, json=data)\n",
    "print(f\"Request method: {request.method}\")\n",
    "print(f\"Request URL: {request.url}\")\n",
    "print(f\"Request headers: {request.headers}\")\n",
    "print(f\"Request body: {request.content.decode()}\")\n",
    "\n",
    "res = pid_client.send(request)\n",
    "print(f\"Statuscode: {res.status_code}\")\n",
    "res.text"
   ]
  },
  {
   "cell_type": "code",
   "execution_count": null,
   "id": "0a035120-ad67-4e68-8441-5d80faea481f",
   "metadata": {},
   "outputs": [],
   "source": []
  }
 ],
 "metadata": {
  "kernelspec": {
   "display_name": "Python 3 (ipykernel)",
   "language": "python",
   "name": "python3"
  },
  "language_info": {
   "codemirror_mode": {
    "name": "ipython",
    "version": 3
   },
   "file_extension": ".py",
   "mimetype": "text/x-python",
   "name": "python",
   "nbconvert_exporter": "python",
   "pygments_lexer": "ipython3",
   "version": "3.12.9"
  }
 },
 "nbformat": 4,
 "nbformat_minor": 5
}
