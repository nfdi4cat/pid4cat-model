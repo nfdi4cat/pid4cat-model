{
 "cells": [
  {
   "cell_type": "markdown",
   "id": "5bef7588-d1e0-4f66-a403-8e72d68a410a",
   "metadata": {},
   "source": [
    "# Retrieving pid4cat metadata from the hdl.net API with Python"
   ]
  },
  {
   "cell_type": "markdown",
   "id": "b770b10f-cf1e-4868-91c5-f35414a650f8",
   "metadata": {},
   "source": [
    "Details for the endpoints provided by the API can be found in the [auto-generated documentation](https://api.nfdi4cat.org/testpid/v2/index.html)."
   ]
  },
  {
   "cell_type": "code",
   "execution_count": 29,
   "id": "76f5481b-dbc9-4367-a09b-29b90f1c5fb5",
   "metadata": {},
   "outputs": [],
   "source": [
    "import httpx\n",
    "import logging\n",
    "from pid4cat_model.handle_api import (\n",
    "    HandleConfig,\n",
    "    HandleNetAPI,\n",
    "    HandleAPIRecord,\n",
    "    pid4cat_record_factory,\n",
    ")"
   ]
  },
  {
   "cell_type": "code",
   "execution_count": 30,
   "id": "152075d0",
   "metadata": {},
   "outputs": [],
   "source": [
    "logger = logging.getLogger(__name__)\n",
    "# Set logging level (DEBUG, INFO, WARNING, ERROR, CRITICAL)\n",
    "logging.basicConfig(level=logging.INFO)"
   ]
  },
  {
   "cell_type": "markdown",
   "id": "47f9db80-b76b-4512-a2ac-239bb4925faa",
   "metadata": {},
   "source": [
    "Setup a httpx-client (no authorisation required) and create the default configuration for accessing the pid4cat handle service."
   ]
  },
  {
   "cell_type": "code",
   "execution_count": 31,
   "id": "4baa076a-6bdd-43b7-9da3-04b8aa5c0a1c",
   "metadata": {},
   "outputs": [
    {
     "data": {
      "text/plain": [
       "HandleConfig(api_url='https://hdl.handle.net/api/handles/', prefix='21.T11978', ns_suffix='test', base_url='https://hdl.handle.net/api/handles/21.T11978/test/')"
      ]
     },
     "execution_count": 31,
     "metadata": {},
     "output_type": "execute_result"
    }
   ],
   "source": [
    "hdl_api_client = httpx.Client()\n",
    "config = HandleConfig()\n",
    "config"
   ]
  },
  {
   "cell_type": "markdown",
   "id": "80db8909",
   "metadata": {},
   "source": [
    "In addition to the config, we need to specify the local_id part for pid4cat handles:"
   ]
  },
  {
   "cell_type": "code",
   "execution_count": 32,
   "id": "c8aa83c6-b45a-41e5-9db9-2315fe64c27e",
   "metadata": {},
   "outputs": [],
   "source": [
    "local_id = \"KBKA-BEM9\""
   ]
  },
  {
   "cell_type": "markdown",
   "id": "3a55d792",
   "metadata": {},
   "source": [
    "Now we are ready to request the metadata for this handle identifier (21.T11978/test/KBKA-BME9)."
   ]
  },
  {
   "cell_type": "code",
   "execution_count": 33,
   "id": "acd79b5b",
   "metadata": {},
   "outputs": [
    {
     "name": "stderr",
     "output_type": "stream",
     "text": [
      "INFO:httpx:HTTP Request: GET https://hdl.handle.net/api/handles/21.T11978/test/KBKA-BEM9 \"HTTP/1.1 200 OK\"\n"
     ]
    }
   ],
   "source": [
    "api = HandleNetAPI(config, hdl_api_client)\n",
    "metadata = api.get_metadata_for_id(local_id)"
   ]
  },
  {
   "cell_type": "markdown",
   "id": "787c7d4e",
   "metadata": {},
   "source": [
    "For ease of use (and validation) we create a Pid4CatRecord instance via a factory function."
   ]
  },
  {
   "cell_type": "code",
   "execution_count": 34,
   "id": "db385c90",
   "metadata": {},
   "outputs": [],
   "source": [
    "pid_rec = pid4cat_record_factory(metadata)"
   ]
  },
  {
   "cell_type": "markdown",
   "id": "c960c727",
   "metadata": {},
   "source": [
    "All metadate elements are easily accessible as attributes of the instance."
   ]
  },
  {
   "cell_type": "code",
   "execution_count": 35,
   "id": "88f127e9",
   "metadata": {},
   "outputs": [
    {
     "name": "stdout",
     "output_type": "stream",
     "text": [
      "All attrtibutes : landing_page_url, status, schema_version, metadata_license, curation_contact, resource_info, related_identifiers, change_log\n",
      "Landing page URL: http://Mytest2.com\n",
      "Status          : REGISTERED\n",
      "Curation contact: xzy@abc.com\n"
     ]
    }
   ],
   "source": [
    "available = \", \".join(pid_rec.dict().keys())\n",
    "print(f\"All attrtibutes : {available}\")\n",
    "print(f\"Landing page URL: {pid_rec.landing_page_url}\")\n",
    "print(f\"Status          : {pid_rec.status}\")\n",
    "print(f\"Curation contact: {pid_rec.curation_contact}\")"
   ]
  },
  {
   "cell_type": "markdown",
   "id": "6339b13c",
   "metadata": {},
   "source": [
    "We may also instantiate other classes from the generated pydantic data model, for example an instance of HandleAPIRecord, which closely matches the data model of the handle system.\n",
    "\n",
    "However, for applications the above Pid4CatRecord instances are much more useful."
   ]
  },
  {
   "cell_type": "code",
   "execution_count": 36,
   "id": "24c06f13-a7a3-4630-9d97-30b75695c65b",
   "metadata": {},
   "outputs": [
    {
     "name": "stdout",
     "output_type": "stream",
     "text": [
      "\n",
      "Trying to create a HandleAPIRecord object... success!\n",
      "{\n",
      "  \"responseCode\": 1,\n",
      "  \"handle\": \"21.T11978/test/KBKA-BEM9\",\n",
      "  \"values\": [\n",
      "    {\n",
      "      \"timestamp\": \"2025-03-11T09:43:14Z\",\n",
      "      \"ttl\": 86400,\n",
      "      \"type\": \"URL\",\n",
      "      \"index\": 1,\n",
      "      \"data\": {\n",
      "        \"format\": \"string\",\n",
      "        \"value\": \"http://Mytest2.com\"\n",
      "      }\n",
      "    },\n",
      "    {\n",
      "      \"timestamp\": \"2025-03-31T08:05:02Z\",\n",
      "      \"ttl\": 86400,\n",
      "      \"type\": \"EMAIL\",\n",
      "      \"index\": 10,\n",
      "      \"data\": {\n",
      "        \"format\": \"string\",\n",
      "        \"value\": \"xzy@abc.com\"\n",
      "      }\n",
      "    },\n",
      "    {\n",
      "      \"timestamp\": \"2025-03-31T08:06:05Z\",\n",
      "      \"ttl\": 86400,\n",
      "      \"type\": \"STATUS\",\n",
      "      \"index\": 11,\n",
      "      \"data\": {\n",
      "        \"format\": \"string\",\n",
      "        \"value\": \"REGISTERED\"\n",
      "      }\n",
      "    },\n",
      "    {\n",
      "      \"timestamp\": \"2025-03-11T10:34:03Z\",\n",
      "      \"ttl\": 86400,\n",
      "      \"type\": \"SCHEMA_VER\",\n",
      "      \"index\": 12,\n",
      "      \"data\": {\n",
      "        \"format\": \"string\",\n",
      "        \"value\": \"v1.0.1\"\n",
      "      }\n",
      "    },\n",
      "    {\n",
      "      \"timestamp\": \"2025-03-11T09:45:25Z\",\n",
      "      \"ttl\": 86400,\n",
      "      \"type\": \"METADATA_LICENSE\",\n",
      "      \"index\": 13,\n",
      "      \"data\": {\n",
      "        \"format\": \"string\",\n",
      "        \"value\": \"CC0-1.0\"\n",
      "      }\n",
      "    },\n",
      "    {\n",
      "      \"timestamp\": \"2025-04-03T08:50:51Z\",\n",
      "      \"ttl\": 86400,\n",
      "      \"type\": \"RESOURCE\",\n",
      "      \"index\": 14,\n",
      "      \"data\": {\n",
      "        \"format\": \"string\",\n",
      "        \"value\": {\n",
      "          \"label\": \"Resource label\",\n",
      "          \"description\": \"Resource description\",\n",
      "          \"resource_category\": \"SAMPLE\",\n",
      "          \"representation_variants\": [\n",
      "            {\n",
      "              \"variant_url\": \"https://example.org/resource\",\n",
      "              \"media_type\": \"text/turtle\",\n",
      "              \"encoding_format\": \"UTF-8\",\n",
      "              \"size\": 12345\n",
      "            }\n",
      "          ]\n",
      "        }\n",
      "      }\n",
      "    },\n",
      "    {\n",
      "      \"timestamp\": \"2025-03-11T10:00:50Z\",\n",
      "      \"ttl\": 86400,\n",
      "      \"type\": \"RELATED\",\n",
      "      \"index\": 15,\n",
      "      \"data\": {\n",
      "        \"format\": \"string\",\n",
      "        \"value\": [\n",
      "          {\n",
      "            \"relation_type\": \"IS_PART_OF\",\n",
      "            \"related_identifier\": {\n",
      "              \"type\": \"ExampleIdentifier\",\n",
      "              \"identifier\": \"ex:collection1\",\n",
      "              \"resolving_url\": \"https://example.org/collection1\"\n",
      "            },\n",
      "            \"datetime_log\": \"2024-02-19T00:00:00Z\"\n",
      "          },\n",
      "          {\n",
      "            \"relation_type\": \"IS_REFERENCED_BY\",\n",
      "            \"related_identifier\": {\n",
      "              \"type\": \"ExampleIdentifier\",\n",
      "              \"identifier\": \"ex:referenced1\",\n",
      "              \"resolving_url\": \"https://example.org/referenced1\"\n",
      "            },\n",
      "            \"datetime_log\": \"2024-02-19T00:00:00Z\"\n",
      "          }\n",
      "        ]\n",
      "      }\n",
      "    },\n",
      "    {\n",
      "      \"timestamp\": \"2025-03-11T10:01:38Z\",\n",
      "      \"ttl\": 86400,\n",
      "      \"type\": \"CHANGES\",\n",
      "      \"index\": 16,\n",
      "      \"data\": {\n",
      "        \"format\": \"string\",\n",
      "        \"value\": [\n",
      "          {\n",
      "            \"datetime_log\": \"2024-02-19T00:00:00Z\",\n",
      "            \"has_agent\": {\n",
      "              \"name\": \"Data Fuzzi\",\n",
      "              \"email_address\": \"data.fuzzi@example.org\",\n",
      "              \"orcid\": \"0000-0000-0000-0000\",\n",
      "              \"affiliation_ror\": \"https://ror.org/029hg0311\",\n",
      "              \"role\": \"TRUSTEE\"\n",
      "            },\n",
      "            \"changed_field\": \"STATUS\",\n",
      "            \"description\": \"Registration completed.\"\n",
      "          },\n",
      "          {\n",
      "            \"datetime_log\": \"2024-05-15T15:51:15Z\",\n",
      "            \"has_agent\": {\n",
      "              \"name\": \"Data Fuzzi\",\n",
      "              \"email_address\": \"data.fuzzi@example.org\",\n",
      "              \"orcid\": \"0000-0000-0000-0000\",\n",
      "              \"affiliation_ror\": \"https://ror.org/029hg0311\",\n",
      "              \"role\": \"TRUSTEE\"\n",
      "            },\n",
      "            \"changed_field\": \"RESOURCE_INFO\",\n",
      "            \"description\": \"as requested in issue #234\"\n",
      "          }\n",
      "        ]\n",
      "      }\n",
      "    }\n",
      "  ]\n",
      "}\n"
     ]
    }
   ],
   "source": [
    "print(\"\\nTrying to create a HandleAPIRecord object\", end=\"... \")\n",
    "hdl_rec = HandleAPIRecord.model_validate(metadata)\n",
    "print(\"success!\")\n",
    "print(hdl_rec.model_dump_json(indent=2))"
   ]
  },
  {
   "cell_type": "code",
   "execution_count": null,
   "id": "10960695",
   "metadata": {},
   "outputs": [],
   "source": []
  }
 ],
 "metadata": {
  "kernelspec": {
   "display_name": ".venv",
   "language": "python",
   "name": "python3"
  },
  "language_info": {
   "codemirror_mode": {
    "name": "ipython",
    "version": 3
   },
   "file_extension": ".py",
   "mimetype": "text/x-python",
   "name": "python",
   "nbconvert_exporter": "python",
   "pygments_lexer": "ipython3",
   "version": "3.12.9"
  }
 },
 "nbformat": 4,
 "nbformat_minor": 5
}
